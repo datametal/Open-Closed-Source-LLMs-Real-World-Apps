{
 "cells": [
  {
   "cell_type": "code",
   "execution_count": 1,
   "id": "eaaccb4d",
   "metadata": {},
   "outputs": [],
   "source": [
    "import os\n",
    "from openai import OpenAI\n",
    "import cohere"
   ]
  },
  {
   "cell_type": "code",
   "execution_count": 9,
   "id": "c615397d",
   "metadata": {
    "scrolled": true
   },
   "outputs": [],
   "source": [
    "co = cohere.Client(os.getenv('COHERE_API_KEY'))\n",
    "openai_client = OpenAI(\n",
    "    api_key=os.environ.get(\"OPENAI_API_KEY\")\n",
    ")"
   ]
  },
  {
   "cell_type": "code",
   "execution_count": null,
   "id": "b9e99528-ae78-4fbd-85da-dcb401671fb2",
   "metadata": {},
   "outputs": [],
   "source": []
  },
  {
   "cell_type": "code",
   "execution_count": 10,
   "id": "694bb77f",
   "metadata": {
    "scrolled": true
   },
   "outputs": [],
   "source": [
    "def test_prompt_openai(prompt, suppress=False, model='gpt-3.5-turbo', **kwargs):\n",
    "    \" a simple function to take in a prompt and run it through a given non-chat model \"\n",
    "        \n",
    "    chat_completion = openai_client.chat.completions.create(\n",
    "        messages=[\n",
    "            {\n",
    "                \"role\": \"user\",\n",
    "                \"content\": prompt,\n",
    "            }\n",
    "        ],\n",
    "        model=model,\n",
    "        **kwargs\n",
    "    )\n",
    "    answer = chat_completion.choices[0].message.content\n",
    "    if not suppress:\n",
    "        print(f'PROMPT:\\n------\\n{prompt}\\n------\\nRESPONSE\\n------\\n{answer}')\n",
    "    else:\n",
    "        return answer\n"
   ]
  },
  {
   "cell_type": "code",
   "execution_count": 14,
   "id": "3c35e826",
   "metadata": {},
   "outputs": [],
   "source": [
    "def test_prompt_cohere(prompt, suppress=False, model='command-xlarge', **kwargs):\n",
    "    response = co.generate(\n",
    "        model=model,\n",
    "        prompt=prompt,\n",
    "        **kwargs,\n",
    "      )\n",
    "    if not suppress:\n",
    "        print(f'PROMPT:\\n------\\n{prompt}\\n------\\nRESPONSE\\n------\\n{response.generations[0].text}')"
   ]
  },
  {
   "cell_type": "markdown",
   "id": "fb55d646",
   "metadata": {},
   "source": [
    "## Just ASK"
   ]
  },
  {
   "cell_type": "code",
   "execution_count": 15,
   "id": "989b22d8",
   "metadata": {},
   "outputs": [
    {
     "name": "stdout",
     "output_type": "stream",
     "text": [
      "PROMPT:\n",
      "------\n",
      "Translate to Turkish.\n",
      "\n",
      "Where is the nearest restaurant?\n",
      "------\n",
      "RESPONSE\n",
      "------\n",
      "En yakın restoran nerede?\n"
     ]
    }
   ],
   "source": [
    "test_prompt_openai('Translate to Turkish.\\n\\nWhere is the nearest restaurant?')"
   ]
  },
  {
   "cell_type": "code",
   "execution_count": 16,
   "id": "a5422fa7",
   "metadata": {},
   "outputs": [
    {
     "name": "stdout",
     "output_type": "stream",
     "text": [
      "PROMPT:\n",
      "------\n",
      "Translate to Turkish.\n",
      "\n",
      "Where is the nearest restaurant?\n",
      "------\n",
      "RESPONSE\n",
      "------\n",
      " Turkish:\n",
      "\n",
      "Nearest restaurant's location in Turkish would be:\n",
      "\n",
      "En iyi restoranın en yakınında nerede?\n",
      "\n",
      "This translation asks \"Where is the nearest restaurant located?\" en iyi restoran means \"the best restaurant,\" but in this context, it asks about a restaurant in general; en yakınında modifies nerede, which means \"where\" or \"at which place?\"\n",
      "\n",
      "Let me know if I can be of further assistance regarding Turkish translation. \n"
     ]
    }
   ],
   "source": [
    "test_prompt_cohere('Translate to Turkish.\\n\\nWhere is the nearest restaurant?')"
   ]
  },
  {
   "cell_type": "code",
   "execution_count": null,
   "id": "2212767f",
   "metadata": {},
   "outputs": [],
   "source": []
  },
  {
   "cell_type": "markdown",
   "id": "b67672dd",
   "metadata": {},
   "source": [
    "# Retrieval Augmented Generation with GPT-4"
   ]
  },
  {
   "cell_type": "code",
   "execution_count": 51,
   "id": "26b7a384",
   "metadata": {},
   "outputs": [],
   "source": [
    "SYSTEM_PROMPT = '''\n",
    "You are a helpful Q/A bot that can only use reference material from a knowledge base.\n",
    "If a user asks anything that is not \"from the knowledge base\", say that you cannot answer.\n",
    "'''.strip()\n",
    "\n",
    "class ChatbotGPT():\n",
    "    def __init__(self, system_prompt, threshold=.8):\n",
    "        self.conversation = [{'role': 'system', 'content': system_prompt}]\n",
    "        self.threshold = threshold\n",
    "\n",
    "    def display_conversation(self):\n",
    "        '''display the conversation in a pretty format denoting the system, user and assistant differently'''\n",
    "        for turn in self.conversation:\n",
    "            role = turn['role']\n",
    "            content = turn['content']\n",
    "            if role == 'system':\n",
    "                print(f'System: {content}')\n",
    "            elif role == 'user':\n",
    "                print(f'User: {content}')\n",
    "            elif role == 'assistant':\n",
    "                print(f'Assistant: {content}')\n",
    "            print('------------')\n",
    "\n",
    "    def user_turn(self, message):\n",
    "        self.conversation.append({\"role\": \"user\", \"content\": message})\n",
    "        best_result = get_best_result_from_pinecone(message)\n",
    "        print(best_result)\n",
    "        if best_result['score'] >= self.threshold:\n",
    "            # Add to the context to the system prompt\n",
    "            self.conversation[0]['content']+=f'\\n\\nFrom the knowledge base: \"{best_result[\"text\"]}\"'\n",
    "\n",
    "        chatgpt_response = openai_client.chat.completions.create(\n",
    "            model='gpt-4',\n",
    "            temperature=0,\n",
    "            messages=self.conversation\n",
    "        ).choices[0].message.content.strip()\n",
    "        self.conversation.append({'role': 'assistant', 'content': chatgpt_response})\n",
    "        return self.conversation[-1]\n"
   ]
  },
  {
   "cell_type": "code",
   "execution_count": 52,
   "id": "300f88bb",
   "metadata": {},
   "outputs": [
    {
     "name": "stdout",
     "output_type": "stream",
     "text": [
      "{'text': 'In economics, fixed costs, indirect costs or overheads are business expenses that are not dependent on the level of goods or services produced by the business. They tend to be time-related, such as salaries or rents being paid per month, and are often referred to as overhead costs. This is in contrast to variable costs, which are volume-related (and are paid per quantity produced). For a simple example, such as a bakery, the monthly rent for the baking facilities, and the monthly payments for the security system and basic phone line are fixed costs, as they do not change according to how much bread the bakery produces and sells. On the other hands, the wage costs of the bakery are variable, as the bakery will have to hire more workers if the production of bread increases. The relation between fixed cost and variable cost can be modelled by an analytical formula.', 'date_uploaded': '2023-08-14T15:04:37.247682', 'score': 0.88927865, 'id': '57a0103e5716168be7498b4531b21d07'}\n"
     ]
    },
    {
     "data": {
      "text/plain": [
       "{'role': 'assistant',\n",
       " 'content': 'In economics, fixed costs are business expenses that are not dependent on the level of goods or services produced by the business. They tend to be time-related, such as salaries or rents being paid per month, and are often referred to as overhead costs. For example, in a bakery, the monthly rent for the baking facilities, and the monthly payments for the security system and basic phone line are fixed costs, as they do not change according to how much bread the bakery produces and sells.'}"
      ]
     },
     "execution_count": 52,
     "metadata": {},
     "output_type": "execute_result"
    }
   ],
   "source": [
    "c = ChatbotGPT(system_prompt=SYSTEM_PROMPT)\n",
    "\n",
    "c.user_turn('what are fixed costs?')"
   ]
  },
  {
   "cell_type": "code",
   "execution_count": 53,
   "id": "8ee85b85",
   "metadata": {},
   "outputs": [
    {
     "name": "stdout",
     "output_type": "stream",
     "text": [
      "{'text': \"In November 2008, the show's post-election day telecast garnered the biggest audience in the show's history at 6.2 million in total viewers, becoming the week's most-watched program in daytime television. It was surpassed on July 29, 2010, during which former President Barack Obama first appeared as a guest on The View, which garnered a total of 6.6 million viewers. In 2013, the show was reported to be averaging 3.1 million daily viewers, which outpaced rival talk show The Talk.\", 'date_uploaded': '2023-08-14T15:00:48.569014', 'score': 0.788732409, 'id': 'be0b9cb01bae3d7fa13839b85c10079c'}\n"
     ]
    },
    {
     "data": {
      "text/plain": [
       "{'role': 'assistant',\n",
       " 'content': \"I'm sorry, but I can't provide the answer to that question because the information is not in my knowledge base.\"}"
      ]
     },
     "execution_count": 53,
     "metadata": {},
     "output_type": "execute_result"
    }
   ],
   "source": [
    "c.user_turn('How old is Obama?')"
   ]
  },
  {
   "cell_type": "code",
   "execution_count": 54,
   "id": "69a97b6e",
   "metadata": {},
   "outputs": [
    {
     "name": "stdout",
     "output_type": "stream",
     "text": [
      "{'text': \"Ordinarily, a baseball game consists of nine innings (in softball and high school baseball games there are typically seven innings; in Little League Baseball, six), each of which is divided into halves: the visiting team bats first, after which the home team takes its turn at bat. However, if the score remains tied at the end of the regulation number of complete innings, the rules provide that ``play shall continue until (1) the visiting team has scored more total runs than the home team at the end of a completed inning; or (2) the home team scores the winning run in an uncompleted inning.'' (Since the home team bats second, condition (2) implies that the visiting team will not have the opportunity to score more runs before the end of the inning.)\", 'date_uploaded': '2023-08-14T15:02:24.138099', 'score': 0.91325289, 'id': 'b2f88d00f95a155e6092e181a763ad03'}\n"
     ]
    },
    {
     "data": {
      "text/plain": [
       "{'role': 'assistant',\n",
       " 'content': 'Ordinarily, a baseball game consists of nine innings. Each of these innings is divided into halves: the visiting team bats first, after which the home team takes its turn at bat. However, if the score remains tied at the end of the regulation number of complete innings, the rules provide that play shall continue until either the visiting team has scored more total runs than the home team at the end of a completed inning, or the home team scores the winning run in an uncompleted inning.'}"
      ]
     },
     "execution_count": 54,
     "metadata": {},
     "output_type": "execute_result"
    }
   ],
   "source": [
    "c.user_turn('how many innings are in a game of baseball?')"
   ]
  },
  {
   "cell_type": "code",
   "execution_count": 55,
   "id": "6cf7d7af",
   "metadata": {},
   "outputs": [
    {
     "name": "stdout",
     "output_type": "stream",
     "text": [
      "{'text': \"Susie moves on into another, larger part of heaven, occasionally watching earthbound events. Lindsey and Samuel have a daughter together named Abigail Suzanne. While stalking a young woman in New Hampshire, Harvey is hit on the shoulder by an icicle and falls to his death down a snow-covered slope into the ravine below. At the end of the novel, a Norristown couple finds Susie's charm bracelet but don't realize its significance, and Susie closes the story by wishing the reader ``a long and happy life''.\", 'date_uploaded': '2023-08-14T15:03:33.926641', 'score': 0.736123919, 'id': '8ae1783aed03559f78a886c77e8001ff'}\n"
     ]
    },
    {
     "data": {
      "text/plain": [
       "{'role': 'assistant',\n",
       " 'content': \"You're welcome! If you have any other questions, feel free to ask.\"}"
      ]
     },
     "execution_count": 55,
     "metadata": {},
     "output_type": "execute_result"
    }
   ],
   "source": [
    "c.user_turn('thanks so much!')"
   ]
  },
  {
   "cell_type": "code",
   "execution_count": 56,
   "id": "90fcbb4c",
   "metadata": {},
   "outputs": [
    {
     "name": "stdout",
     "output_type": "stream",
     "text": [
      "System: You are a helpful Q/A bot that can only use reference material from a knowledge base.\n",
      "If a user asks anything that is not \"from the knowledge base\", say that you cannot answer.\n",
      "\n",
      "From the knowledge base: \"In economics, fixed costs, indirect costs or overheads are business expenses that are not dependent on the level of goods or services produced by the business. They tend to be time-related, such as salaries or rents being paid per month, and are often referred to as overhead costs. This is in contrast to variable costs, which are volume-related (and are paid per quantity produced). For a simple example, such as a bakery, the monthly rent for the baking facilities, and the monthly payments for the security system and basic phone line are fixed costs, as they do not change according to how much bread the bakery produces and sells. On the other hands, the wage costs of the bakery are variable, as the bakery will have to hire more workers if the production of bread increases. The relation between fixed cost and variable cost can be modelled by an analytical formula.\"\n",
      "\n",
      "From the knowledge base: \"Ordinarily, a baseball game consists of nine innings (in softball and high school baseball games there are typically seven innings; in Little League Baseball, six), each of which is divided into halves: the visiting team bats first, after which the home team takes its turn at bat. However, if the score remains tied at the end of the regulation number of complete innings, the rules provide that ``play shall continue until (1) the visiting team has scored more total runs than the home team at the end of a completed inning; or (2) the home team scores the winning run in an uncompleted inning.'' (Since the home team bats second, condition (2) implies that the visiting team will not have the opportunity to score more runs before the end of the inning.)\"\n",
      "------------\n",
      "User: what are fixed costs?\n",
      "------------\n",
      "Assistant: In economics, fixed costs are business expenses that are not dependent on the level of goods or services produced by the business. They tend to be time-related, such as salaries or rents being paid per month, and are often referred to as overhead costs. For example, in a bakery, the monthly rent for the baking facilities, and the monthly payments for the security system and basic phone line are fixed costs, as they do not change according to how much bread the bakery produces and sells.\n",
      "------------\n",
      "User: How old is Obama?\n",
      "------------\n",
      "Assistant: I'm sorry, but I can't provide the answer to that question because the information is not in my knowledge base.\n",
      "------------\n",
      "User: how many innings are in a game of baseball?\n",
      "------------\n",
      "Assistant: Ordinarily, a baseball game consists of nine innings. Each of these innings is divided into halves: the visiting team bats first, after which the home team takes its turn at bat. However, if the score remains tied at the end of the regulation number of complete innings, the rules provide that play shall continue until either the visiting team has scored more total runs than the home team at the end of a completed inning, or the home team scores the winning run in an uncompleted inning.\n",
      "------------\n",
      "User: thanks so much!\n",
      "------------\n",
      "Assistant: You're welcome! If you have any other questions, feel free to ask.\n",
      "------------\n"
     ]
    }
   ],
   "source": [
    "c.display_conversation()"
   ]
  },
  {
   "cell_type": "code",
   "execution_count": null,
   "id": "c90f9c7f",
   "metadata": {},
   "outputs": [],
   "source": []
  },
  {
   "cell_type": "code",
   "execution_count": null,
   "id": "568cb215",
   "metadata": {},
   "outputs": [],
   "source": []
  }
 ],
 "metadata": {
  "kernelspec": {
   "display_name": "Python 3 (ipykernel)",
   "language": "python",
   "name": "python3"
  },
  "language_info": {
   "codemirror_mode": {
    "name": "ipython",
    "version": 3
   },
   "file_extension": ".py",
   "mimetype": "text/x-python",
   "name": "python",
   "nbconvert_exporter": "python",
   "pygments_lexer": "ipython3",
   "version": "3.11.5"
  }
 },
 "nbformat": 4,
 "nbformat_minor": 5
}
